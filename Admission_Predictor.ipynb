{
 "cells": [
  {
   "cell_type": "markdown",
   "metadata": {},
   "source": [
    "## Admission Predictor A Machine Learning Project with Real Dataset\n",
    "This Project is tested on a Dataset having around 10,000 real entry test results. \n",
    "A consolidated Merit List (Descending Order) is prepared on applicants' \n",
    "performance where admission is offered to toppers on first preferred choice. \n",
    "Applicants set the minimum boarder line called Merit Line by paying the fee against offered \n",
    "program. Merit Line drops when lowest candidate of First Merit List does not pay the fee. \n",
    "In consequent Merit Lists, merit drops until seats are filled completely. \n",
    "Ultimately Lowest merit line is set for each Program. \n",
    "This Project will predict Admission Chance in a desired Program for Applicants (Futuristic Prediction)"
   ]
  },
  {
   "cell_type": "code",
   "execution_count": 32,
   "metadata": {},
   "outputs": [
    {
     "data": {
      "text/plain": [
       "array(['BSIR', 'BSAvM', 'BSAF', 'BSCS', 'BSAI', 'BSCGD', 'BSP', 'BSPsy',\n",
       "       'BSTHM', 'BSCYS', 'BSIT', 'BBA', 'BSSE', 'BSEng', 'BSMTH', 'BSDS',\n",
       "       'BEEE', 'BEBME', 'BSAFev', 'BEME', 'BEMTS', 'BSHCM', 'BCE', 'BEEP',\n",
       "       'BEET', 'ADSCS', 'BSCYSev', 'BSCSev'], dtype=object)"
      ]
     },
     "execution_count": 32,
     "metadata": {},
     "output_type": "execute_result"
    }
   ],
   "source": [
    "import pandas as pd\n",
    "from sklearn.model_selection import train_test_split\n",
    "import matplotlib.pyplot as plt\n",
    "from sklearn import metrics\n",
    "import seaborn as sns\n",
    "data=pd.read_excel(\"/workspaces/codespaces-jupyter/data/Admission Dataset.xls\")\n",
    "data=data.drop('SR',axis=1) \n",
    "#This section extracts the unique programs offered in university\n",
    "Prog_data=data[['OFFERED','FEESTATUS','TOTALSCORE']]\n",
    "Prog_data=Prog_data.dropna()\n",
    "#print(Prog_data)\n",
    "prog=Prog_data['OFFERED'].unique()\n",
    "prog"
   ]
  },
  {
   "cell_type": "markdown",
   "metadata": {},
   "source": [
    "This section finds Minimum Merit Line of each Program "
   ]
  },
  {
   "cell_type": "code",
   "execution_count": 33,
   "metadata": {},
   "outputs": [],
   "source": [
    "\n",
    "min_merit={}\n",
    "\n",
    "for i in prog:\n",
    "    fil1=Prog_data['OFFERED']==i\n",
    "    hold=Prog_data.where(fil1)\n",
    "    hold=hold['TOTALSCORE'].min()\n",
    "    min_merit[i]=hold"
   ]
  },
  {
   "cell_type": "markdown",
   "metadata": {},
   "source": [
    "This section shows the minimum Merit Line of each Program"
   ]
  },
  {
   "cell_type": "code",
   "execution_count": 34,
   "metadata": {},
   "outputs": [
    {
     "name": "stdout",
     "output_type": "stream",
     "text": [
      "Minimum Merit Line of Program:\t BSIR : 50.35\n",
      "Minimum Merit Line of Program:\t BSAvM : 40.58\n",
      "Minimum Merit Line of Program:\t BSAF : 43.75\n",
      "Minimum Merit Line of Program:\t BSCS : 76.02\n",
      "Minimum Merit Line of Program:\t BSAI : 71.76\n",
      "Minimum Merit Line of Program:\t BSCGD : 66.8\n",
      "Minimum Merit Line of Program:\t BSP : 46.14\n",
      "Minimum Merit Line of Program:\t BSPsy : 50.86\n",
      "Minimum Merit Line of Program:\t BSTHM : 44.89\n",
      "Minimum Merit Line of Program:\t BSCYS : 71.62\n",
      "Minimum Merit Line of Program:\t BSIT : 69.1\n",
      "Minimum Merit Line of Program:\t BBA : 41.13\n",
      "Minimum Merit Line of Program:\t BSSE : 71.76\n",
      "Minimum Merit Line of Program:\t BSEng : 42.15\n",
      "Minimum Merit Line of Program:\t BSMTH : 46.26\n",
      "Minimum Merit Line of Program:\t BSDS : 70.67\n",
      "Minimum Merit Line of Program:\t BEEE : 48.72\n",
      "Minimum Merit Line of Program:\t BEBME : 71.43\n",
      "Minimum Merit Line of Program:\t BSAFev : 44.74\n",
      "Minimum Merit Line of Program:\t BEME : 43.38\n",
      "Minimum Merit Line of Program:\t BEMTS : 51.53\n",
      "Minimum Merit Line of Program:\t BSHCM : 50.67\n",
      "Minimum Merit Line of Program:\t BCE : 53.94\n",
      "Minimum Merit Line of Program:\t BEEP : 47.13\n",
      "Minimum Merit Line of Program:\t BEET : 47.5\n",
      "Minimum Merit Line of Program:\t ADSCS : 47.77\n",
      "Minimum Merit Line of Program:\t BSCYSev : 64.01\n",
      "Minimum Merit Line of Program:\t BSCSev : 65.09\n"
     ]
    }
   ],
   "source": [
    "for a, value in min_merit.items():\n",
    "    print('Minimum Merit Line of Program:\\t',a,':',value)"
   ]
  },
  {
   "cell_type": "markdown",
   "metadata": {},
   "source": [
    "Now on basis of Minimum Merit Line, a new column is added in dataset named \"Admission Chance\".\n",
    "1 for YES and 0 for NO. Dataset is converted into Discrete values"
   ]
  },
  {
   "cell_type": "code",
   "execution_count": 35,
   "metadata": {},
   "outputs": [],
   "source": [
    "mydic={'ADM_CHANCE':0}\n",
    "adm_chance=[]\n",
    "\n",
    "def Data_Processing():\n",
    "    \n",
    "    flag=0\n",
    "    for a in range(len(data)):\n",
    "        t1=data['TOTALSCORE'][a]\n",
    "        t2=data['SHORTKEY'][a]\n",
    "        for b in min_merit:\n",
    "            if t2==b and t1>min_merit[b]:\n",
    "                adm_chance.append(1) \n",
    "                flag=1\n",
    "                break\n",
    "             \n",
    "        if flag==0: \n",
    "            adm_chance.append(0)\n",
    "        flag=0\n",
    "    #print(\"NOW hold contains is:\", len(hold))\n",
    "\n",
    "Data_Processing()\n",
    "mydic[\"ADM_CHANCE\"]=adm_chance\n",
    "mydf= pd.DataFrame(mydic)\n",
    "# Adding new column to existing dataset having values 0 and 1 \n",
    "data['ADM_CHANCE']=mydf"
   ]
  },
  {
   "cell_type": "markdown",
   "metadata": {},
   "source": [
    "This function will predict Admission Chance by using the best ML Model on my Dataset"
   ]
  },
  {
   "cell_type": "code",
   "execution_count": 36,
   "metadata": {},
   "outputs": [],
   "source": [
    "def Adm_Predictor(lr):\n",
    "    import joblib\n",
    "    \n",
    "    matric=input('Enter Matriculation %age:\\t')\n",
    "    inter=input('Enter Intermediate %age:\\t')\n",
    "    ET=input('Enter Entry Test %age:\\t')\n",
    "    joblib.dump(lr,'Admission_Predictor_Model')\n",
    "    model=joblib.load('Admission_Predictor_Model')\n",
    "    result=model.predict([[int(matric),int(inter),int(ET)]])\n",
    "    \n",
    "    if result<1:\n",
    "        result='No Chance of Admission'\n",
    "    else: \n",
    "        result='Yes, there are bright chance of Admission'\n",
    "    print('Admission Prediction is: ',result)"
   ]
  },
  {
   "cell_type": "markdown",
   "metadata": {},
   "source": [
    "This function will show the performance of different ML Models applied on Dataset\n",
    "so that best ML Model may be selected"
   ]
  },
  {
   "cell_type": "code",
   "execution_count": 37,
   "metadata": {},
   "outputs": [
    {
     "name": "stdout",
     "output_type": "stream",
     "text": [
      "X shape: (1140, 3)\n",
      "y shape: (1140, 1)\n",
      "X_Train data lenght:  912\n",
      "y_Test data lenght:  228\n"
     ]
    },
    {
     "name": "stderr",
     "output_type": "stream",
     "text": [
      "/home/codespace/.local/lib/python3.10/site-packages/sklearn/utils/validation.py:1184: DataConversionWarning: A column-vector y was passed when a 1d array was expected. Please change the shape of y to (n_samples, ), for example using ravel().\n",
      "  y = column_or_1d(y, warn=True)\n",
      "/home/codespace/.local/lib/python3.10/site-packages/sklearn/utils/validation.py:1184: DataConversionWarning: A column-vector y was passed when a 1d array was expected. Please change the shape of y to (n_samples, ), for example using ravel().\n",
      "  y = column_or_1d(y, warn=True)\n",
      "/home/codespace/.local/lib/python3.10/site-packages/sklearn/base.py:1151: DataConversionWarning: A column-vector y was passed when a 1d array was expected. Please change the shape of y to (n_samples,), for example using ravel().\n",
      "  return fit_method(estimator, *args, **kwargs)\n",
      "/home/codespace/.local/lib/python3.10/site-packages/sklearn/ensemble/_gb.py:424: DataConversionWarning: A column-vector y was passed when a 1d array was expected. Please change the shape of y to (n_samples, ), for example using ravel().\n",
      "  y = column_or_1d(y, warn=True)\n"
     ]
    },
    {
     "name": "stdout",
     "output_type": "stream",
     "text": [
      "Final Data:    Models  R2_SCORE\n",
      "0     LR  0.965434\n",
      "1    SVC  0.827168\n",
      "2    RFC  0.827168\n",
      "3     GC  0.758035\n"
     ]
    },
    {
     "data": {
      "image/png": "[encoded data removed]",
      "text/plain": [
       "<Figure size 1000x500 with 1 Axes>"
      ]
     },
     "metadata": {},
     "output_type": "display_data"
    },
    {
     "name": "stdout",
     "output_type": "stream",
     "text": [
      "Admission Prediction is:  No Chance of Admission\n"
     ]
    },
    {
     "name": "stderr",
     "output_type": "stream",
     "text": [
      "/home/codespace/.local/lib/python3.10/site-packages/sklearn/base.py:464: UserWarning: X does not have valid feature names, but LogisticRegression was fitted with feature names\n",
      "  warnings.warn(\n"
     ]
    }
   ],
   "source": [
    "def Model_Selection():\n",
    "    \n",
    "    shortkey=input('Enter Program for Admission:\\t')\n",
    "    shortkey=shortkey.upper()\n",
    "    # Filtering big dataset on basis of asked Program for prediction\n",
    "    prog_df=data.query(\"SHORTKEY==@shortkey\")\n",
    "    X=prog_df[['DEGSCORE1','DEGSCORE2','ETSCORE']]\n",
    "    y=prog_df[['ADM_CHANCE']]\n",
    "    print('X shape:',X.shape)\n",
    "    print('y shape:',y.shape)\n",
    "    # Now test and train the Model on Dataset\n",
    "    X_train,X_test,y_train,y_test=train_test_split(X,y,test_size=0.20,random_state=42)\n",
    "\n",
    "\n",
    "    print('X_Train data lenght: ',len(X_train))\n",
    "    print('y_Test data lenght: ',len(y_test))\n",
    "    # As now data is discrete i.e. Classification problem so we apply different Classifier\n",
    "    from sklearn.linear_model import LogisticRegression\n",
    "    from sklearn.metrics import mean_squared_error, accuracy_score\n",
    "    from sklearn.svm import SVC\n",
    "    from sklearn.ensemble import RandomForestClassifier\n",
    "    from sklearn.ensemble import GradientBoostingClassifier\n",
    "    # I will apply four Classifier on Dataset and compare\n",
    "    lr=LogisticRegression()\n",
    "    lr.fit(X_train,y_train) \n",
    "    \n",
    "    svm=SVC()\n",
    "    svm.fit(X_train,y_train)\n",
    "\n",
    "    rf=RandomForestClassifier()\n",
    "    rf.fit(X_train,y_train)\n",
    "\n",
    "    gr=GradientBoostingClassifier()\n",
    "    gr.fit(X_train,y_train)\n",
    "    y_pred1=lr.predict(X_test)\n",
    "    y_pred2=svm.predict(X_test)\n",
    "    y_pred3=rf.predict(X_test)\n",
    "    y_pred4=gr.predict(X_test)\n",
    "\n",
    "\n",
    "    score1=metrics.r2_score(y_test,y_pred1)\n",
    "    score2=metrics.r2_score(y_test,y_pred2)\n",
    "    score3=metrics.r2_score(y_test,y_pred3)\n",
    "    score4=metrics.r2_score(y_test,y_pred4)\n",
    "    #print(score1,score2,score3,score4)\n",
    "    Final_data=pd.DataFrame({'Models':['LR','SVC','RFC','GC'],'R2_SCORE':[score1,score2,score3,score4]})\n",
    "    print('Final Data: ',Final_data)\n",
    "    # Data Shows that Logistic Regression is best model for my Dataset\n",
    "    class print_graph:\n",
    "        def printbar(self,arg1,arg2):\n",
    "            self.arg1=arg1 \n",
    "            self.arg2=arg2 \n",
    "            plt.figure(figsize=(10,5))\n",
    "            ax=sns.barplot(x=arg1,y=arg2,data=arg2,errwidth=0)\n",
    "            for i in ax.containers:\n",
    "              ax.bar_label(i,)\n",
    "              plt.show()\n",
    "        \n",
    "    obj=print_graph()\n",
    "    obj.printbar(Final_data['Models'],Final_data['R2_SCORE'])\n",
    "    # Graph Shows that Logistic Regression is best model for my Dataset\n",
    "    Adm_Predictor(lr)\n",
    "\n",
    "Model_Selection()\n",
    "# AS we know the result of LR is more accurate. so we will choose LR model"
   ]
  }
 ],
 "metadata": {
  "kernelspec": {
   "display_name": "Python 3",
   "language": "python",
   "name": "python3"
  },
  "language_info": {
   "codemirror_mode": {
    "name": "ipython",
    "version": 3
   },
   "file_extension": ".py",
   "mimetype": "text/x-python",
   "name": "python",
   "nbconvert_exporter": "python",
   "pygments_lexer": "ipython3",
   "version": "3.10.8"
  },
  "orig_nbformat": 4
 },
 "nbformat": 4,
 "nbformat_minor": 2
}
